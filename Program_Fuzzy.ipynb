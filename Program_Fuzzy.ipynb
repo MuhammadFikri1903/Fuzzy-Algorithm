{
 "cells": [
  {
   "cell_type": "code",
   "execution_count": 1,
   "metadata": {},
   "outputs": [],
   "source": [
    "import pandas as pd\n",
    "import numpy as np\n",
    "import skfuzzy as fuzz\n",
    "from sklearn.metrics import accuracy_score, classification_report"
   ]
  },
  {
   "cell_type": "code",
   "execution_count": 110,
   "metadata": {},
   "outputs": [
    {
     "name": "stdout",
     "output_type": "stream",
     "text": [
      "Orang 1:\n",
      "ax1 - Min: -64.136 | Max: 49.5159\n",
      "ay1 - Min: -47.9327 | Max: 15.0338\n",
      "az1 - Min: -15.1671 | Max: 38.7498\n",
      "\n",
      "Orang 2:\n",
      "ax2 - Min: -50.7883 | Max: 65.5491\n",
      "ay2 - Min: -59.0693 | Max: 22.2194\n",
      "az2 - Min: -18.4048 | Max: 42.3343\n"
     ]
    }
   ],
   "source": [
    "# 1. Load Dataset\n",
    "file_path = \"D:/Tugas AI/data kami.csv\"\n",
    "dataset = pd.read_csv(file_path)\n",
    "\n",
    "# Filter hanya data dengan Label = 1\n",
    "# dataset= dataset[dataset['Label'] == 1]\n",
    "\n",
    "# Ambil data Orang 1\n",
    "kolom_data_ax1 = dataset['Ax1']\n",
    "kolom_data_ay1 = dataset['Ay1']\n",
    "kolom_data_az1 = dataset['Az1']\n",
    "\n",
    "# Ambil data Orang 2\n",
    "kolom_data_ax2 = dataset['Ax2']\n",
    "kolom_data_ay2 = dataset['Ay2']\n",
    "kolom_data_az2 = dataset['Az2']\n",
    "\n",
    "# Hitung dan tampilkan nilai minimum dan maksimum\n",
    "print(\"Orang 1:\")\n",
    "print(\"ax1 - Min:\", kolom_data_ax1.min(), \"| Max:\", kolom_data_ax1.max())\n",
    "print(\"ay1 - Min:\", kolom_data_ay1.min(), \"| Max:\", kolom_data_ay1.max())\n",
    "print(\"az1 - Min:\", kolom_data_az1.min(), \"| Max:\", kolom_data_az1.max())\n",
    "\n",
    "print(\"\\nOrang 2:\")\n",
    "print(\"ax2 - Min:\", kolom_data_ax2.min(), \"| Max:\", kolom_data_ax2.max())\n",
    "print(\"ay2 - Min:\", kolom_data_ay2.min(), \"| Max:\", kolom_data_ay2.max())\n",
    "print(\"az2 - Min:\", kolom_data_az2.min(), \"| Max:\", kolom_data_az2.max())"
   ]
  },
  {
   "cell_type": "code",
   "execution_count": 111,
   "metadata": {},
   "outputs": [
    {
     "name": "stdout",
     "output_type": "stream",
     "text": [
      "[0 0 0 ... 2 2 2]\n"
     ]
    }
   ],
   "source": [
    "# 2. Extract Sensor Values and True Labels\n",
    "Ax1_vals = dataset.iloc[:, 1].values\n",
    "Ay1_vals = dataset.iloc[:, 2].values\n",
    "Az1_vals = dataset.iloc[:, 3].values\n",
    "Ax2_vals = dataset.iloc[:, 4].values\n",
    "Ay2_vals = dataset.iloc[:, 5].values\n",
    "Az2_vals = dataset.iloc[:, 6].values\n",
    "true_labels = dataset.iloc[:, -1].values\n",
    "\n",
    "print(true_labels)"
   ]
  },
  {
   "cell_type": "code",
   "execution_count": 112,
   "metadata": {},
   "outputs": [],
   "source": [
    "# 3. Define Membership Ranges for Each Label\n",
    "range_dict = {\n",
    "    0: {  # Berputar\n",
    "        'Ax1': (-64.136, 49.5159), 'Ay1': (-47.9327, 10.5016), 'Az1': (-12.7991, 38.7498),\n",
    "        'Ax2': (-50.7883, 65.5491), 'Ay2': (-59.0693, -2.5409), 'Az2': (-13.1767, 42.3343),\n",
    "    },\n",
    "    1: {  # Berdiri\n",
    "        'Ax1': (-23.9606, 37.9111), 'Ay1': (-28.3499, 15.0338), 'Az1': (-15.1671, 17.2101),\n",
    "        'Ax2': (-26.9368, 20.8562), 'Ay2': (-28.3499, 22.2194), 'Az2': (-18.4048, 15.041),\n",
    "    },\n",
    "    2: {  # Duduk\n",
    "        'Ax1': (-3.8479, 5.4633), 'Ay1': (-3.4649, 7.5147), 'Az1': (-7.6916, 20.0865),\n",
    "        'Ax2': (-3.5721,  7.1441), 'Ay2': (-3.4344,  8.7644), 'Az2': (-8.0645, 13.6768),\n",
    "    }\n",
    "}"
   ]
  },
  {
   "cell_type": "code",
   "execution_count": 113,
   "metadata": {},
   "outputs": [],
   "source": [
    "# 4. Membership Function Generator\n",
    "def get_memberships(values, min_val, max_val):\n",
    "    mid_val = (min_val + max_val) / 2\n",
    "    return fuzz.trimf(values, [min_val, mid_val, max_val])"
   ]
  },
  {
   "cell_type": "code",
   "execution_count": 114,
   "metadata": {},
   "outputs": [],
   "source": [
    "# 5. Fuzzification for Each Label\n",
    "fuzzified = {}\n",
    "for label in [0, 1, 2]:\n",
    "    for axis in ['Ax1', 'Ay1', 'Az1', 'Ax2', 'Ay2', 'Az2']:\n",
    "        min_val, max_val = range_dict[label][axis]\n",
    "        fuzzified[f\"{axis}_label{label}\"] = get_memberships(eval(f\"{axis}_vals\"), min_val, max_val)\n",
    "\n",
    "fuzzified_df = pd.DataFrame(fuzzified)"
   ]
  },
  {
   "cell_type": "code",
   "execution_count": 115,
   "metadata": {},
   "outputs": [
    {
     "name": "stdout",
     "output_type": "stream",
     "text": [
      "0       0.299786\n",
      "1       0.322516\n",
      "2       0.327239\n",
      "3       0.294002\n",
      "4       0.200040\n",
      "          ...   \n",
      "2495    0.000000\n",
      "2496    0.000000\n",
      "2497    0.000000\n",
      "2498    0.000000\n",
      "2499    0.000000\n",
      "Length: 2500, dtype: float64\n"
     ]
    }
   ],
   "source": [
    "# 6. Inference (Using ax1, ay1, az1 Only for Simplicity)\n",
    "def apply_rule(label_num):\n",
    "    part1 = np.fmin(np.fmin(\n",
    "        fuzzified_df[f\"Ax1_label{label_num}\"],\n",
    "        fuzzified_df[f\"Ay1_label{label_num}\"]\n",
    "    ), fuzzified_df[f\"Az1_label{label_num}\"])\n",
    "    \n",
    "    part2 = np.fmin(np.fmin(\n",
    "        fuzzified_df[f\"Ax2_label{label_num}\"],\n",
    "        fuzzified_df[f\"Ay2_label{label_num}\"]\n",
    "    ), fuzzified_df[f\"Az2_label{label_num}\"])\n",
    "    \n",
    "    return np.fmin(part1, part2)\n",
    "\n",
    "rule1 = apply_rule(0)\n",
    "rule2 = apply_rule(1)\n",
    "rule3 = apply_rule(2)\n",
    "\n",
    "print(rule1)"
   ]
  },
  {
   "cell_type": "code",
   "execution_count": 116,
   "metadata": {},
   "outputs": [
    {
     "name": "stdout",
     "output_type": "stream",
     "text": [
      "0       0\n",
      "1       0\n",
      "2       0\n",
      "3       0\n",
      "4       0\n",
      "       ..\n",
      "2495    1\n",
      "2496    1\n",
      "2497    1\n",
      "2498    1\n",
      "2499    1\n",
      "Length: 2500, dtype: int32\n"
     ]
    }
   ],
   "source": [
    "# 7. Defuzzification and Output\n",
    "sum_rules = rule1 + rule2 + rule3\n",
    "sum_rules[sum_rules == 0] = 1e-6\n",
    "\n",
    "# Gunakan bobot 0, 1, 2 karena itu label aslinya\n",
    "crisp_output = (rule1 * 0 + rule2 * 1 + rule3 * 2) / sum_rules\n",
    "\n",
    "# Tidak perlu tambah 1\n",
    "predicted_label = np.round(crisp_output).astype(int)\n",
    "\n",
    "# Pastikan hasil tetap dalam range 0–2\n",
    "predicted_label = np.clip(predicted_label, 0, 2)\n",
    "\n",
    "print(predicted_label)"
   ]
  },
  {
   "cell_type": "code",
   "execution_count": 117,
   "metadata": {},
   "outputs": [
    {
     "name": "stdout",
     "output_type": "stream",
     "text": [
      "Contoh hasil prediksi:\n",
      "   prediksi_label\n",
      "0               0\n",
      "1               0\n",
      "2               0\n",
      "3               0\n",
      "4               0\n"
     ]
    }
   ],
   "source": [
    "# 8. Save and Evaluate\n",
    "hasil_akhir = dataset.copy()\n",
    "hasil_akhir[\"prediksi_label\"] = predicted_label\n",
    "hasil_akhir.to_excel(\"hasil_prediksi_mamdani.xlsx\", index=False)\n",
    "\n",
    "print(\"Contoh hasil prediksi:\")\n",
    "print(hasil_akhir[[\"prediksi_label\"]].head())"
   ]
  },
  {
   "cell_type": "code",
   "execution_count": 118,
   "metadata": {},
   "outputs": [
    {
     "name": "stdout",
     "output_type": "stream",
     "text": [
      "Akurasi: 0.6684\n",
      "              precision    recall  f1-score   support\n",
      "\n",
      "           0       0.95      0.99      0.97       669\n",
      "           1       0.54      0.96      0.69       971\n",
      "           2       1.00      0.08      0.15       860\n",
      "\n",
      "    accuracy                           0.67      2500\n",
      "   macro avg       0.83      0.68      0.60      2500\n",
      "weighted avg       0.81      0.67      0.58      2500\n",
      "\n"
     ]
    }
   ],
   "source": [
    "# Evaluation\n",
    "print(\"Akurasi:\", accuracy_score(true_labels, predicted_label))\n",
    "print(classification_report(true_labels, predicted_label))"
   ]
  },
  {
   "cell_type": "code",
   "execution_count": 130,
   "metadata": {},
   "outputs": [
    {
     "name": "stdout",
     "output_type": "stream",
     "text": [
      "[0 0 0 ... 2 2 2]\n"
     ]
    }
   ],
   "source": [
    "from sklearn.metrics import confusion_matrix\n",
    "import seaborn as sns\n",
    "import matplotlib.pyplot as plt\n",
    "\n",
    "true_label = dataset.iloc[:, -1].values # Ganti ini sesuai nama kolom label asli kamu\n",
    "print(true_label)"
   ]
  },
  {
   "cell_type": "code",
   "execution_count": 131,
   "metadata": {},
   "outputs": [
    {
     "data": {
      "image/png": "[encoded data removed]",
      "text/plain": [
       "<Figure size 600x400 with 2 Axes>"
      ]
     },
     "metadata": {},
     "output_type": "display_data"
    },
    {
     "name": "stdout",
     "output_type": "stream",
     "text": [
      "Classification Report:\n",
      "              precision    recall  f1-score   support\n",
      "\n",
      "           0       0.95      0.99      0.97       669\n",
      "           1       0.54      0.96      0.69       971\n",
      "           2       1.00      0.08      0.15       860\n",
      "\n",
      "    accuracy                           0.67      2500\n",
      "   macro avg       0.83      0.68      0.60      2500\n",
      "weighted avg       0.81      0.67      0.58      2500\n",
      "\n"
     ]
    }
   ],
   "source": [
    "# Confusion matrix\n",
    "cm = confusion_matrix(true_label, predicted_label)\n",
    "\n",
    "# Tampilkan dengan heatmap\n",
    "plt.figure(figsize=(6, 4))\n",
    "sns.heatmap(cm, annot=True, fmt='d', cmap='Blues',\n",
    "            xticklabels=[0, 1, 2], yticklabels=[0, 1, 2])\n",
    "plt.xlabel(\"Prediksi\")\n",
    "plt.ylabel(\"Label Asli\")\n",
    "plt.title(\"Confusion Matrix\")\n",
    "plt.tight_layout()\n",
    "plt.show()\n",
    "\n",
    "# Tampilkan laporan klasifikasi\n",
    "print(\"Classification Report:\")\n",
    "print(classification_report(true_label, predicted_label))"
   ]
  }
 ],
 "metadata": {
  "kernelspec": {
   "display_name": "base",
   "language": "python",
   "name": "python3"
  },
  "language_info": {
   "codemirror_mode": {
    "name": "ipython",
    "version": 3
   },
   "file_extension": ".py",
   "mimetype": "text/x-python",
   "name": "python",
   "nbconvert_exporter": "python",
   "pygments_lexer": "ipython3",
   "version": "3.12.4"
  }
 },
 "nbformat": 4,
 "nbformat_minor": 2
}
