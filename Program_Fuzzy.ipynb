{
 "cells": [
  {
   "cell_type": "code",
   "execution_count": 1,
   "metadata": {},
   "outputs": [],
   "source": [
    "import pandas as pd\n",
    "import numpy as np\n",
    "import skfuzzy as fuzz\n",
    "from sklearn.metrics import accuracy_score, classification_report"
   ]
  },
  {
   "cell_type": "code",
   "execution_count": 3,
   "metadata": {},
   "outputs": [
    {
     "name": "stdout",
     "output_type": "stream",
     "text": [
      "Orang 1:\n",
      "AX - Min: -25.19 | Max: 38.09\n",
      "AY - Min: -25.51 | Max: 41.26\n",
      "AZ - Min: -20.24 | Max: 32.29\n"
     ]
    }
   ],
   "source": [
    "# 1. Load Dataset\n",
    "file_path = \"C:/Users/fikri/Library/Library python/ENV/data_sensor_baru3.csv\"\n",
    "dataset = pd.read_csv(file_path)\n",
    "\n",
    "# Ambil data Orang 1\n",
    "kolom_data_ax1 = dataset['AX']\n",
    "kolom_data_ay1 = dataset['AY']\n",
    "kolom_data_az1 = dataset['AZ']\n",
    "\n",
    "# Hitung dan tampilkan nilai minimum dan maksimum\n",
    "print(\"Orang 1:\")\n",
    "print(\"AX - Min:\", kolom_data_ax1.min(), \"| Max:\", kolom_data_ax1.max())\n",
    "print(\"AY - Min:\", kolom_data_ay1.min(), \"| Max:\", kolom_data_ay1.max())\n",
    "print(\"AZ - Min:\", kolom_data_az1.min(), \"| Max:\", kolom_data_az1.max())\n"
   ]
  },
  {
   "cell_type": "code",
   "execution_count": 4,
   "metadata": {},
   "outputs": [
    {
     "name": "stdout",
     "output_type": "stream",
     "text": [
      "[0 0 0 ... 2 2 2]\n"
     ]
    }
   ],
   "source": [
    "# 2. Extract Sensor Values and True Labels (diperbaiki)\n",
    "Ax1_vals = dataset.iloc[:, 0].values  # AX\n",
    "Ay1_vals = dataset.iloc[:, 1].values  # AY\n",
    "Az1_vals = dataset.iloc[:, 2].values  # AZ\n",
    "\n",
    "true_labels = dataset.iloc[:, 3].values  # Label\n",
    "\n",
    "print(true_labels)\n"
   ]
  },
  {
   "cell_type": "code",
   "execution_count": 5,
   "metadata": {},
   "outputs": [
    {
     "name": "stdout",
     "output_type": "stream",
     "text": [
      "Statistik AX:\n",
      "count    2635.000000\n",
      "mean        0.154091\n",
      "std         4.896978\n",
      "min       -25.190000\n",
      "25%        -0.995000\n",
      "50%         0.180000\n",
      "75%         1.245000\n",
      "max        38.090000\n",
      "Name: AX, dtype: float64\n",
      "Statistik AY:\n",
      "count    2635.000000\n",
      "mean       -0.209074\n",
      "std         7.916983\n",
      "min       -25.510000\n",
      "25%        -1.790000\n",
      "50%        -0.010000\n",
      "75%         1.485000\n",
      "max        41.260000\n",
      "Name: AY, dtype: float64\n",
      "Statistik AZ:\n",
      "count    2635.000000\n",
      "mean        0.559651\n",
      "std         6.373049\n",
      "min       -20.240000\n",
      "25%        -1.830000\n",
      "50%        -0.180000\n",
      "75%         1.670000\n",
      "max        32.290000\n",
      "Name: AZ, dtype: float64\n"
     ]
    }
   ],
   "source": [
    "# Analisis statistik dasar untuk AX, AY, AZ\n",
    "print(\"Statistik AX:\")\n",
    "print(dataset['AX'].describe())\n",
    "\n",
    "print(\"Statistik AY:\")\n",
    "print(dataset['AY'].describe())\n",
    "\n",
    "print(\"Statistik AZ:\")\n",
    "print(dataset['AZ'].describe())\n"
   ]
  },
  {
   "cell_type": "code",
   "execution_count": 6,
   "metadata": {},
   "outputs": [
    {
     "name": "stdout",
     "output_type": "stream",
     "text": [
      "Label 0:\n",
      "  Ax1: min = -15.88, max = 16.48\n",
      "  Ay1: min = -15.04, max = 10.09\n",
      "  Az1: min = -20.24, max = 30.60\n",
      "Label 1:\n",
      "  Ax1: min = -25.19, max = 38.09\n",
      "  Ay1: min = -25.51, max = 41.26\n",
      "  Az1: min = -14.42, max = 32.29\n",
      "Label 2:\n",
      "  Ax1: min = -1.76, max = 2.13\n",
      "  Ay1: min = -1.56, max = 3.11\n",
      "  Az1: min = -2.62, max = 4.28\n"
     ]
    }
   ],
   "source": [
    "range_dict = {}\n",
    "\n",
    "for label in dataset['Label'].unique():\n",
    "    data_label = dataset[dataset['Label'] == label]\n",
    "    \n",
    "    range_dict[label] = {\n",
    "        'Ax1': (data_label['AX'].min(), data_label['AX'].max()),\n",
    "        'Ay1': (data_label['AY'].min(), data_label['AY'].max()),\n",
    "        'Az1': (data_label['AZ'].min(), data_label['AZ'].max())\n",
    "    }\n",
    "\n",
    "# Lihat hasilnya\n",
    "for label, ranges in range_dict.items():\n",
    "    print(f\"Label {label}:\")\n",
    "    for axis, (min_val, max_val) in ranges.items():\n",
    "        print(f\"  {axis}: min = {min_val:.2f}, max = {max_val:.2f}\")\n"
   ]
  },
  {
   "cell_type": "code",
   "execution_count": 7,
   "metadata": {},
   "outputs": [],
   "source": [
    "range_dict = {\n",
    "    0: {  # Lompat\n",
    "        'Ax1': (-15.88, 16.48),\n",
    "        'Ay1': (-15.04, 10.09),\n",
    "        'Az1': (-20.24, 30.60),\n",
    "    },\n",
    "    1: {  # Lari\n",
    "        'Ax1': (-25.19, 38.09),\n",
    "        'Ay1': (-25.51, 41.26),\n",
    "        'Az1': (-14.42, 32.29),\n",
    "    },\n",
    "    2: {  # Naik Tangga\n",
    "        'Ax1': (-1.76, 2.13),\n",
    "        'Ay1': (-1.56, 3.11),\n",
    "        'Az1': (-2.62, 4.28),\n",
    "    }\n",
    "}\n"
   ]
  },
  {
   "cell_type": "code",
   "execution_count": 20,
   "metadata": {},
   "outputs": [],
   "source": [
    "def get_memberships(values, min_val, max_val):\n",
    "    range_padding = 0.1 * (max_val - min_val)\n",
    "    return fuzz.trimf(values, [\n",
    "        min_val - range_padding,\n",
    "        (min_val + max_val) / 2,\n",
    "        max_val + range_padding\n",
    "    ])\n"
   ]
  },
  {
   "cell_type": "code",
   "execution_count": 21,
   "metadata": {},
   "outputs": [],
   "source": [
    "# 5. Fuzzification for Each Label\n",
    "fuzzified = {}\n",
    "for label in [0, 1, 2]:\n",
    "    for axis in ['Ax1', 'Ay1', 'Az1']:\n",
    "        min_val, max_val = range_dict[label][axis]\n",
    "        fuzzified[f\"{axis}_label{label}\"] = get_memberships(eval(f\"{axis}_vals\"), min_val, max_val)\n",
    "\n",
    "fuzzified_df = pd.DataFrame(fuzzified)"
   ]
  },
  {
   "cell_type": "code",
   "execution_count": 22,
   "metadata": {},
   "outputs": [],
   "source": [
    "def apply_rule(label_num):\n",
    "    part1 = np.fmin(np.fmin(\n",
    "        fuzzified_df[f\"Ax1_label{label_num}\"],\n",
    "        fuzzified_df[f\"Ay1_label{label_num}\"]\n",
    "    ), fuzzified_df[f\"Az1_label{label_num}\"])\n",
    "    \n",
    "    return part1\n",
    "\n",
    "# Apply rule untuk masing-masing label\n",
    "rule1 = apply_rule(0)\n",
    "rule2 = apply_rule(1)\n",
    "rule3 = apply_rule(2)\n"
   ]
  },
  {
   "cell_type": "code",
   "execution_count": 23,
   "metadata": {},
   "outputs": [
    {
     "name": "stdout",
     "output_type": "stream",
     "text": [
      "0       1\n",
      "1       1\n",
      "2       1\n",
      "3       1\n",
      "4       1\n",
      "       ..\n",
      "2630    1\n",
      "2631    1\n",
      "2632    1\n",
      "2633    1\n",
      "2634    1\n",
      "Length: 2635, dtype: int64\n"
     ]
    }
   ],
   "source": [
    "# 7. Defuzzification and Output\n",
    "sum_rules = rule1 + rule2 + rule3\n",
    "sum_rules[sum_rules == 0] = 1e-6\n",
    "\n",
    "# Gunakan bobot 0, 1, 2 karena itu label aslinya\n",
    "crisp_output = (rule1 * 0 + rule2 * 1 + rule3 * 2) / sum_rules\n",
    "\n",
    "# Tidak perlu tambah 1\n",
    "predicted_label = np.round(crisp_output).astype(int)\n",
    "\n",
    "# Pastikan hasil tetap dalam range 0–2\n",
    "predicted_label = np.clip(predicted_label, 0, 2)\n",
    "\n",
    "print(predicted_label)"
   ]
  },
  {
   "cell_type": "code",
   "execution_count": 16,
   "metadata": {},
   "outputs": [
    {
     "name": "stdout",
     "output_type": "stream",
     "text": [
      "Contoh hasil prediksi:\n",
      "   prediksi_label\n",
      "0               1\n",
      "1               1\n",
      "2               1\n",
      "3               1\n",
      "4               1\n"
     ]
    }
   ],
   "source": [
    "# 8. Save and Evaluate\n",
    "hasil_akhir = dataset.copy()\n",
    "hasil_akhir[\"prediksi_label\"] = predicted_label\n",
    "hasil_akhir.to_excel(\"hasil_prediksi_mamdani.xlsx\", index=False)\n",
    "\n",
    "print(\"Contoh hasil prediksi:\")\n",
    "print(hasil_akhir[[\"prediksi_label\"]].head())"
   ]
  },
  {
   "cell_type": "code",
   "execution_count": 17,
   "metadata": {},
   "outputs": [
    {
     "name": "stdout",
     "output_type": "stream",
     "text": [
      "Akurasi: 0.3240986717267552\n",
      "              precision    recall  f1-score   support\n",
      "\n",
      "           0       0.66      0.41      0.51      1002\n",
      "           1       0.22      0.70      0.33       631\n",
      "           2       0.00      0.00      0.00      1002\n",
      "\n",
      "    accuracy                           0.32      2635\n",
      "   macro avg       0.29      0.37      0.28      2635\n",
      "weighted avg       0.30      0.32      0.27      2635\n",
      "\n"
     ]
    },
    {
     "name": "stderr",
     "output_type": "stream",
     "text": [
      "c:\\Users\\fikri\\Library\\Library python\\ENV\\Lib\\site-packages\\sklearn\\metrics\\_classification.py:1531: UndefinedMetricWarning: Precision is ill-defined and being set to 0.0 in labels with no predicted samples. Use `zero_division` parameter to control this behavior.\n",
      "  _warn_prf(average, modifier, f\"{metric.capitalize()} is\", len(result))\n",
      "c:\\Users\\fikri\\Library\\Library python\\ENV\\Lib\\site-packages\\sklearn\\metrics\\_classification.py:1531: UndefinedMetricWarning: Precision is ill-defined and being set to 0.0 in labels with no predicted samples. Use `zero_division` parameter to control this behavior.\n",
      "  _warn_prf(average, modifier, f\"{metric.capitalize()} is\", len(result))\n",
      "c:\\Users\\fikri\\Library\\Library python\\ENV\\Lib\\site-packages\\sklearn\\metrics\\_classification.py:1531: UndefinedMetricWarning: Precision is ill-defined and being set to 0.0 in labels with no predicted samples. Use `zero_division` parameter to control this behavior.\n",
      "  _warn_prf(average, modifier, f\"{metric.capitalize()} is\", len(result))\n"
     ]
    }
   ],
   "source": [
    "# Evaluation\n",
    "print(\"Akurasi:\", accuracy_score(true_labels, predicted_label))\n",
    "print(classification_report(true_labels, predicted_label))"
   ]
  },
  {
   "cell_type": "code",
   "execution_count": 18,
   "metadata": {},
   "outputs": [
    {
     "name": "stdout",
     "output_type": "stream",
     "text": [
      "[0 0 0 ... 2 2 2]\n"
     ]
    }
   ],
   "source": [
    "from sklearn.metrics import confusion_matrix\n",
    "import seaborn as sns\n",
    "import matplotlib.pyplot as plt\n",
    "\n",
    "true_label = dataset.iloc[:, -1].values # Ganti ini sesuai nama kolom label asli kamu\n",
    "print(true_label)"
   ]
  },
  {
   "cell_type": "code",
   "execution_count": 19,
   "metadata": {},
   "outputs": [
    {
     "data": {
      "image/png": "[encoded data removed]",
      "text/plain": [
       "<Figure size 600x400 with 2 Axes>"
      ]
     },
     "metadata": {},
     "output_type": "display_data"
    },
    {
     "name": "stdout",
     "output_type": "stream",
     "text": [
      "Classification Report:\n",
      "              precision    recall  f1-score   support\n",
      "\n",
      "           0       0.66      0.41      0.51      1002\n",
      "           1       0.22      0.70      0.33       631\n",
      "           2       0.00      0.00      0.00      1002\n",
      "\n",
      "    accuracy                           0.32      2635\n",
      "   macro avg       0.29      0.37      0.28      2635\n",
      "weighted avg       0.30      0.32      0.27      2635\n",
      "\n"
     ]
    },
    {
     "name": "stderr",
     "output_type": "stream",
     "text": [
      "c:\\Users\\fikri\\Library\\Library python\\ENV\\Lib\\site-packages\\sklearn\\metrics\\_classification.py:1531: UndefinedMetricWarning: Precision is ill-defined and being set to 0.0 in labels with no predicted samples. Use `zero_division` parameter to control this behavior.\n",
      "  _warn_prf(average, modifier, f\"{metric.capitalize()} is\", len(result))\n",
      "c:\\Users\\fikri\\Library\\Library python\\ENV\\Lib\\site-packages\\sklearn\\metrics\\_classification.py:1531: UndefinedMetricWarning: Precision is ill-defined and being set to 0.0 in labels with no predicted samples. Use `zero_division` parameter to control this behavior.\n",
      "  _warn_prf(average, modifier, f\"{metric.capitalize()} is\", len(result))\n",
      "c:\\Users\\fikri\\Library\\Library python\\ENV\\Lib\\site-packages\\sklearn\\metrics\\_classification.py:1531: UndefinedMetricWarning: Precision is ill-defined and being set to 0.0 in labels with no predicted samples. Use `zero_division` parameter to control this behavior.\n",
      "  _warn_prf(average, modifier, f\"{metric.capitalize()} is\", len(result))\n"
     ]
    }
   ],
   "source": [
    "# Confusion matrix\n",
    "cm = confusion_matrix(true_label, predicted_label)\n",
    "\n",
    "# Tampilkan dengan heatmap\n",
    "plt.figure(figsize=(6, 4))\n",
    "sns.heatmap(cm, annot=True, fmt='d', cmap='Blues',\n",
    "            xticklabels=[0, 1, 2], yticklabels=[0, 1, 2])\n",
    "plt.xlabel(\"Prediksi\")\n",
    "plt.ylabel(\"Label Asli\")\n",
    "plt.title(\"Confusion Matrix\")\n",
    "plt.tight_layout()\n",
    "plt.show()\n",
    "\n",
    "# Tampilkan laporan klasifikasi\n",
    "print(\"Classification Report:\")\n",
    "print(classification_report(true_label, predicted_label))"
   ]
  }
 ],
 "metadata": {
  "kernelspec": {
   "display_name": "ENV",
   "language": "python",
   "name": "python3"
  },
  "language_info": {
   "codemirror_mode": {
    "name": "ipython",
    "version": 3
   },
   "file_extension": ".py",
   "mimetype": "text/x-python",
   "name": "python",
   "nbconvert_exporter": "python",
   "pygments_lexer": "ipython3",
   "version": "3.12.9"
  }
 },
 "nbformat": 4,
 "nbformat_minor": 2
}
